{
 "cells": [
  {
   "cell_type": "code",
   "execution_count": 1,
   "id": "ab9213f3",
   "metadata": {},
   "outputs": [],
   "source": [
    "import os\n",
    "import pandas as pd\n",
    "import numpy as np"
   ]
  },
  {
   "cell_type": "markdown",
   "id": "fea1bb51",
   "metadata": {},
   "source": [
    "## troubleshooting/running resting-state specific preprocessing on the moshigo data"
   ]
  },
  {
   "cell_type": "markdown",
   "id": "5a9ebda3",
   "metadata": {},
   "source": [
    "seems that devrest_preproc_sub_mosh.sh will do most of it, editing in mosh_new.sh to make some changes based on current directory structure\n",
    "\n",
    "steps run WITHIN mosh_new.sh include:\n",
    "* nuisance_meants.py - create wm and csf images for the motion model\n",
    "* motion_models_mosh.py - create 32 parameter motion .txt file\n",
    "   * there's a note in tony's script that says the fmriqa image will be different based on moshigo or resting state... gonna try it with the fmriqa already run in corral but may have to go back and check on this later? it seems the image we want to run it on is bold_mcf_brain_corr.nii.gz so hopefully that's what Kate did too\n",
    "   * CHECK BACK ON THIS\n",
    "* devrest_preproc_afni.py - actually do the preprocessing\n",
    "    "
   ]
  },
  {
   "cell_type": "markdown",
   "id": "60c2b2d4",
   "metadata": {},
   "source": [
    "There's one subject with (I think) all necessary data is in my /scratch/09123/ofriend/devrest/moshiGO_351"
   ]
  },
  {
   "cell_type": "markdown",
   "id": "0f856a93",
   "metadata": {},
   "source": [
    "## 1. nuisance_meants.py to get wm and csf images"
   ]
  },
  {
   "cell_type": "code",
   "execution_count": null,
   "id": "7691151a",
   "metadata": {},
   "outputs": [],
   "source": [
    "nuisance_meants.py -s $subject -r $runid -m \"$STUDYDIR/$subject/anatomy/bbreg/data/csf.nii.gz $STUDYDIR/$subject/anatomy/bbreg/data/wm_ee.nii.gz\" -p func_unsmoothed --eigen"
   ]
  },
  {
   "cell_type": "code",
   "execution_count": null,
   "id": "825de704",
   "metadata": {},
   "outputs": [],
   "source": [
    "new_nuisance_meants.py -s moshiGO_351 -r task_run1_bold_mcf_brain -m \"/scratch/09123/ofriend/devrest/moshiGO_351/anatomy/seg/csf.nii.gz $SCRATCH/09123/ofriend/devrest/moshiGO_351/anatomy/seg/wm.nii.gz\" -p func_unsmoothed --eigen"
   ]
  },
  {
   "cell_type": "markdown",
   "id": "10a5a1d1",
   "metadata": {},
   "source": [
    "## current issue = need masks not just wm and csf images and need to be in functional space"
   ]
  },
  {
   "cell_type": "code",
   "execution_count": 2,
   "id": "9d8cb653",
   "metadata": {},
   "outputs": [],
   "source": [
    "# ok looks like need to run transorm_anat2func on the csf wm images; need to get this figured out first. also mentions 'erode_wm/csf...not sure hwat that's supposed to be?"
   ]
  },
  {
   "cell_type": "code",
   "execution_count": null,
   "id": "58eefc33",
   "metadata": {},
   "outputs": [],
   "source": [
    "antsApplyTransforms -d 3 -i /scratch/09123/ofriend/devrest/moshiGO_351/anatomy/seg/wm.nii.gz -r /scratch/09123/ofriend/devrest/moshiGO_351/BOLD/antsreg/data/task_run1_bold_mcf_brain.nii.gz -n NearestNeighbor -o /scratch/09123/ofriend/devrest/moshiGO_351/anatomy/seg/wm_mask.nii.gz -t /scratch/09123/ofriend/devrest/moshiGO_351/anatomy/antsreg/transforms/brain2task_run3unwarp_Affine.txt"
   ]
  },
  {
   "cell_type": "code",
   "execution_count": null,
   "id": "588061d2",
   "metadata": {},
   "outputs": [],
   "source": [
    "ThresholdImage 3 /scratch/09123/ofriend/devrest/moshiGO_351/anatomy/seg/gm_mask.nii.gz gm_mask.nii.gz 0.5 1"
   ]
  },
  {
   "cell_type": "markdown",
   "id": "ac87574d",
   "metadata": {},
   "source": [
    "something not working with the wm mask"
   ]
  }
 ],
 "metadata": {
  "kernelspec": {
   "display_name": "Python 3 (ipykernel)",
   "language": "python",
   "name": "python3"
  },
  "language_info": {
   "codemirror_mode": {
    "name": "ipython",
    "version": 3
   },
   "file_extension": ".py",
   "mimetype": "text/x-python",
   "name": "python",
   "nbconvert_exporter": "python",
   "pygments_lexer": "ipython3",
   "version": "3.9.7"
  }
 },
 "nbformat": 4,
 "nbformat_minor": 5
}
